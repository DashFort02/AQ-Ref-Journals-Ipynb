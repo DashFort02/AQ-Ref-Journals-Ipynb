{
  "cells": [
    {
      "cell_type": "markdown",
      "metadata": {
        "id": "fV3PwkAngBnd"
      },
      "source": [
        "## Purpose: Track my edits in vs code (copy over links and problems between notebooks)"
      ]
    },
    {
      "cell_type": "code",
      "execution_count": 3,
      "metadata": {
        "id": "8OSSoyKOoY4V"
      },
      "outputs": [],
      "source": [
        "var = 1\n",
        "var += 1\n",
        "var += 1\n",
        "var += 1"
      ]
    },
    {
      "cell_type": "markdown",
      "metadata": {
        "id": "IqA3-GNFcK1Y"
      },
      "source": [
        "chrome://bookmarks/?id=25436\n",
        "\n",
        "[🌟🐍](https://www.codecademy.com/learn)\n",
        "\n",
        "[📷 Programming](https://photos.google.com/share/AF1QipOo3gv-kAJt7s0MGQBohEWMuOdEfNcYdcnQ6f45SavHoEWIxQ0yqbjS8oxlZZhvYQ?key=VUl3NkxkQ2ZuNDJiZ3Zmc0d1M3JzVXhsd2pTTjRB)\n",
        "   \n",
        "[Keep Matlab](https://keep.google.com)\n",
        "ToDos & Questions\n",
        "\n",
        "[vs code shortc[link text](https://)uts](https://code.visualstudio.com/docs/getstarted/keybindings#_editorwindow-management)\n",
        "\n",
        "[vim keyboard shortcuts](https://vim.rtorr.com/)\n",
        "\n",
        "[vim readme](https://github.com/VSCodeVim/Vim)\n",
        "\n",
        "    I installed the extension learn vim. I can work thru the lessons by doing \n",
        "    ctrl+shft+p then executing the command learn vim\n"
      ]
    },
    {
      "cell_type": "markdown",
      "metadata": {
        "id": "N5Y3DQrFvfsM"
      },
      "source": []
    },
    {
      "cell_type": "markdown",
      "metadata": {
        "id": "e9VXrzxgxXgb"
      },
      "source": [
        "# Problems"
      ]
    },
    {
      "cell_type": "markdown",
      "metadata": {
        "id": "aRXaaTq3yDqT"
      },
      "source": [
        "- I am still trying to figure out what is the best way for me to work with a reference\n",
        "     - I didn't use the colab I made, Instead, I had:\n",
        "     - a doc called \"outline\", and the files for my project all on the right of my screen pinned in VS code, \n",
        "     - then I had the pdf of the assignment on the left. \n",
        "     - % I just took notes in comments\n",
        "\n",
        "\n",
        "- IDK how to use \"git bash\"\n",
        "I deleted the replace shortcut for files, and made replace ctrl+shift+\n",
        "\n",
        "    What's vim's equivalent to the \"f\" key in chrome\n",
        "https://www.youtube.com/watch?v=f6h-V3-B71w&t=417s"
      ]
    },
    {
      "cell_type": "markdown",
      "metadata": {},
      "source": []
    },
    {
      "cell_type": "markdown",
      "metadata": {
        "id": "Ix-oVIL2uMrW"
      },
      "source": [
        "## Learn Vim\n",
        "I am on #moving fast ## move to a specific char. I access the pixel art file with ctrl+shft+p learn vim (or by clicking extensions), then I can work in the text document on the right\n"
      ]
    },
    {
      "cell_type": "markdown",
      "metadata": {
        "id": "Cv9REED1JHDD"
      },
      "source": [
        "# Easymotion\n",
        "? (.) is not working as of 9_11_21\n",
        "\n",
        "I set my **leader** to be \".\"\n",
        "\n",
        "\"ctrl+/\" Comment out a line that is highlighted with visual-block by pressing \"ctrl+/\"\n",
        "\n",
        "ex go to the beginning of the previous word with \"leader(.) +leader(.) +b\"\n",
        "\n",
        "use easy motion **search** by clicking \"leader (.) + leader (.) + /\"\n",
        "\n",
        "[easy motion github](https://github.com/VSCodeVim/Vim)"
      ]
    },
    {
      "cell_type": "markdown",
      "metadata": {
        "id": "LxVwXE4xJelE"
      },
      "source": [
        "# Settings\n",
        "My file is: **C:\\Users\\dashf\\AppData\\Roaming\\Code\\User\\settings.json**"
      ]
    },
    {
      "cell_type": "markdown",
      "metadata": {},
      "source": [
        "--------questions-----\n",
        "- should I port everything to my format?\n",
        "- it's so much easier to just use the online importer\n",
        "--------todo----------\n",
        "- general files\n",
        "  - I need to backup my matlab files in github\n",
        "- I need to make a .sty in overleaf that works for notetaking\n",
        "- If the outline doesn't work, I could break up the sections at the top of this journal into different files\n",
        "--------notes---------\n",
        "  - I need to read \n",
        "    - https://docs.github.com/en/get-started/quickstart/github-flow\n",
        "  - in vs code, after I press ^+p I can use non-vim hotekeys\n"
      ]
    },
    {
      "cell_type": "markdown",
      "metadata": {
        "id": "7E_vVVxLvSYf"
      },
      "source": [
        "#Notes"
      ]
    },
    {
      "cell_type": "markdown",
      "metadata": {
        "id": "dt1kOM0kvM4Z"
      },
      "source": [
        "## 9_13\n",
        "I can open powershell in vs code by clicking Terminal>new>powershell>open in editor. The terminal only\n",
        "\n",
        "I installed git bash locally. It is in my start menu, and  IDK how to use it. The bottom left of my vs code screen shows that\n",
        "\n",
        "I do remember how to use the gui Desktop gitHUB app though. I made a new repo for tests called September-2021-Scratch. It is in: C:\\Users\\dashf\\AndroidStudioProjects\\Free_Code_Tourism\\September-2021-Scratch\n",
        "\n",
        "The github app lets me open my github files in vs code and windows explorer directly\n",
        "\n",
        "Whenever I install new programs, they don't take effect in powershell until I restart powershell\n",
        "\n",
        "I just us .md files for reading LaTeX in VS Code."
      ]
    },
    {
      "cell_type": "markdown",
      "metadata": {
        "id": "1A8l3AtnBUZw"
      },
      "source": [
        "##9_5\n",
        "\n",
        "To run python code, if copying the terminal like google photos doesn't work, then I can just press \"ctrl + enter\"\n",
        "\n",
        "\n"
      ]
    },
    {
      "cell_type": "markdown",
      "metadata": {
        "id": "d4bzeD2uKGrz"
      },
      "source": [
        "###Easy motion screenshot"
      ]
    },
    {
      "cell_type": "markdown",
      "metadata": {},
      "source": [
        "$E = mc^2$"
      ]
    },
    {
      "cell_type": "markdown",
      "metadata": {},
      "source": [
        "![test](\"IMG_3991.jpg\")"
      ]
    },
    {
      "cell_type": "markdown",
      "metadata": {
        "id": "P_9MFL13J1sr"
      },
      "source": [
        "![image.png](easymotion.png)"
      ]
    },
    {
      "cell_type": "markdown",
      "metadata": {
        "id": "dg_ZJqSIlEGD"
      },
      "source": [
        "##7_11\n",
        "**bold text*`*\n",
        " I played around w the file>preferences>keyboard shortcuts, but i couldnt get \"add comment\" to work (I think vim was interfearing)\n",
        "  Instead, to add a multiline comment, I will resort to surrounding the block of code with '''"
      ]
    },
    {
      "cell_type": "markdown",
      "metadata": {
        "id": "7tuIAROkPhky"
      },
      "source": [
        "## 3_27\n",
        "- add to vs code: I think that typing shft+/ (questionmark) results in a universal search, but I don't know how to advance\n",
        "\n",
        "\n",
        "-I deleted the replace shortcut for files, and made replace ctrl+shift+h\n",
        "\n",
        "-**I can save how I have my files open in VS Code by going file>save>workspace**\n",
        "\n",
        "-I can use vim as a text editor too. This is my setup for sts' pdf on the left, and my md file on the right"
      ]
    },
    {
      "cell_type": "markdown",
      "metadata": {},
      "source": []
    },
    {
      "cell_type": "markdown",
      "metadata": {
        "id": "JuxDe2SeN_IE"
      },
      "source": [
        "### 3_15\n",
        "I am still trying to figure out what is the best way for me to work with a reference\n",
        "    I didn't use the colab I made, Instead, I had:\n",
        "     - a doc called \"outline\", and the files for my project all on the right of my screen pinned in VS code, \n",
        "     - then I had the pdf of the assignment on the left. \n",
        "     - % I just took notes in comments\n",
        "\n",
        "I deleted the replace shortcut for files, and made replace ctrl+shift+\n",
        "\n"
      ]
    },
    {
      "cell_type": "markdown",
      "metadata": {
        "id": "ea1xvN1xp3hZ"
      },
      "source": [
        "### 3_5\n",
        "I followed the youtube video https://www.youtube.com/watch?v=h-epcklOC_g \n",
        "* and set my visual keybinding to be 'kj'. \n",
        "> * It is accessible by hitting settings>extensions>vim>edit keybindings.json [blu button]\n",
        "> * I can referens the \n",
        "\n",
        "* and made the settings file with the tab correction:\n",
        "\n",
        "> * and C:\\Users\\dashf\\Desktop\\VS Coding\\.vscode\\.vscode\\settings.json\n",
        "\n"
      ]
    },
    {
      "cell_type": "markdown",
      "metadata": {
        "id": "sEdiTOBDNe5X"
      },
      "source": [
        "###2_9: Some navigational shortcuts\n",
        "I practiced some vim commands navigating words with b,e,w. I also fownd that I can drag a tab in vs code w my mouse, then I can cycle between the pannels with ctrl+1, or ctrl+2 or 3\n",
        "\n",
        "dddd/dddd/I can navigate my tabs in vs code by using my trackpad for horizontal scroll\n",
        "\n",
        "* this isnt vs code, but razer, ctrl+caps enter is slow, sliding four fingers on the precision trackpad is fast\n",
        "\n",
        "I installed the extension learn vim. I can work thru the lessons by doing \n",
        "ctrl+shft+p then executing the command learn vim\n",
        "\n",
        "####to reopen vscodevim settings:\n",
        "    ctrl+shft+p then executing the command Preferences: Open settings (JSON) or Preferences: Open keyboard\n",
        "\n",
        "###2_7\n",
        "I downloaded Code Spell Checker because someone on reddit said it is accurate, and ignores text that is in camelCase (not snake_case)\n",
        "\n",
        "I learned I can open .ipynb in vs code...\n",
        "* ? how do I insert a new textbox in an ,ipynb in vs code?\n"
      ]
    },
    {
      "cell_type": "markdown",
      "metadata": {
        "id": "5pa5_PIoiWxw"
      },
      "source": [
        "![image.png](ex-vs-note.png)"
      ]
    },
    {
      "cell_type": "markdown",
      "metadata": {
        "id": "62RLOiOvlhm0"
      },
      "source": [
        "####1_11 Notes:\n",
        "\n",
        "0 update pip to 2.3._\n",
        "\n",
        "VS Code is just a text editor\n",
        "\n",
        "I installed miniconda and pylance\n",
        "\n",
        "I can open jypter notebooks, but I lost the introductory screen"
      ]
    },
    {
      "cell_type": "markdown",
      "metadata": {
        "id": "WOtqk2i-MQQL"
      },
      "source": [
        "### Registrars\n",
        "0 learn from link below how to use registrars to quickly paste text, and avoid losing anything\n",
        "https://www.youtube.com/watch?v=yN5L2_f-nUA&ab_channel=TheFrugalComputerGuy\n",
        "\n",
        "http://vimdoc.sourceforge.net/htmldoc/change.html#registers\n",
        "\n",
        "https://www.barbarianmeetscoding.com/boost-your-coding-fu-with-vscode-and-vim/copy-paste/\n",
        "Notes from what Ethan showed me 3_8\n",
        "* I can access my last 9 things I copied with ditto by pressing ctrl+1-9. vim does the same thing in insert mode if I do ctrl+r then 1-9.\n",
        "\n",
        "* to save a word in a register\n",
        "    1. In normal mode, I click in a word, then \"yank in word\"\n",
        "    2. \"ayiw\n",
        "        * saves the word to a register\n",
        "    3. I navigate to where I want to paste (put), then access the Register\n",
        "    4. ctrl+r a\n",
        "\n",
        "* 0 is a special key that stores the copy clipboard. Every time I copy something, it is saved to the clipboard that is specified as the destination, and the copy clipboard. When two things are copied, the second overwrites the first, but the first is still saved in the copy clipboard (I think)\n",
        "\n",
        "* \" is also a special key that stores the system registrar"
      ]
    },
    {
      "cell_type": "markdown",
      "metadata": {
        "id": "UR-GvSVpkNBR"
      },
      "source": [
        "#### 10_11\n",
        "\n",
        "I downloaded the most recent windows python, vs code, and vim extension\n",
        "on my second try I got python to make an appropriate path for vs code (I also checked with the command prompt)\n",
        "\n",
        "I watched the yt tutorial below. It sugested downloadin the don.jayamanne extension pack rather than the sugested\n",
        "\n",
        "https://www.youtube.com/watch?v=IZj8hLrkABs&ab_channel=ChrisHawkes\n",
        "(in the python youtube playlist)\n",
        "\n",
        "x why does this \"VS Coding\" folder now has a \".json\" folder\n",
        "?where can I find the Vim shortcuts in the text editor\n",
        "\n"
      ]
    },
    {
      "cell_type": "markdown",
      "metadata": {
        "id": "Rv4B3SEQjlB2"
      },
      "source": ["![image.png](keyboard-shortcuts-windows (1)-1)"
      ]
    }
  ],
  "metadata": {
    "colab": {
      "collapsed_sections": [],
      "name": "VS Code Setup Programming Journal updated 4_8- .ipynb",
      "provenance": [],
      "toc_visible": true
    },
    "kernelspec": {
      "display_name": "Python 3",
      "name": "python3"
    },
    "language_info": {
      "codemirror_mode": {
        "name": "ipython",
        "version": 3
      },
      "file_extension": ".py",
      "mimetype": "text/x-python",
      "name": "python",
      "nbconvert_exporter": "python",
      "pygments_lexer": "ipython3",
      "version": "3.10.3"
    }
  },
  "nbformat": 4,
  "nbformat_minor": 0
}
