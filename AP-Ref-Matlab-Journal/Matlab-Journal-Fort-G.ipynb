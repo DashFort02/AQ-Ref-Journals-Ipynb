{
  "nbformat": 4,
  "nbformat_minor": 0,
  "metadata": {
    "colab": {
      "name": "👨‍💻 Matlab Programming Journal 10_20-4_28 .ipynb",
      "provenance": [],
      "collapsed_sections": []
    },
    "kernelspec": {
      "name": "python3",
      "display_name": "Python 3"
    }
  },
  "cells": [
    {
      "cell_type": "markdown",
      "metadata": {
        "id": "fV3PwkAngBnd"
      },
      "source": [
        "Purpose: Store matlab coding notes in a reverse chronological place with my code as unformatted text. I can also save screenshots "
      ]
    },
    {
      "cell_type": "markdown",
      "metadata": {
        "id": "IqA3-GNFcK1Y"
      },
      "source": [
        "chrome://bookmarks/?id=25436\n",
        "\n",
        "[🌟🐍](https://www.codecademy.com/learn)\n",
        "\n",
        "[📷 Programming](https://photos.google.com/share/AF1QipOo3gv-kAJt7s0MGQBohEWMuOdEfNcYdcnQ6f45SavHoEWIxQ0yqbjS8oxlZZhvYQ?key=VUl3NkxkQ2ZuNDJiZ3Zmc0d1M3JzVXhsd2pTTjRB)\n",
        "\n",
        "\n",
        "\n",
        "\n",
        "\n",
        "[Keep Matlab](https://keep.google.com)\n",
        "ToDos & Questions\n"
      ]
    },
    {
      "cell_type": "code",
      "metadata": {
        "colab": {
          "base_uri": "https://localhost:8080/",
          "height": 195
        },
        "id": "PpCQLl2BghuB",
        "outputId": "6722b929-36db-4a5b-99cd-10f834818e34"
      },
      "source": [
        "import math\n",
        "import sympy as sym\n",
        "\n",
        "sym.diff(4*math.exp(-4*x),x)"
      ],
      "execution_count": null,
      "outputs": [
        {
          "output_type": "error",
          "ename": "NameError",
          "evalue": "ignored",
          "traceback": [
            "\u001b[0;31m---------------------------------------------------------------------------\u001b[0m",
            "\u001b[0;31mNameError\u001b[0m                                 Traceback (most recent call last)",
            "\u001b[0;32m<ipython-input-3-e9dd8ae1546e>\u001b[0m in \u001b[0;36m<module>\u001b[0;34m()\u001b[0m\n\u001b[1;32m      2\u001b[0m \u001b[0;32mimport\u001b[0m \u001b[0msympy\u001b[0m \u001b[0;32mas\u001b[0m \u001b[0msym\u001b[0m\u001b[0;34m\u001b[0m\u001b[0;34m\u001b[0m\u001b[0m\n\u001b[1;32m      3\u001b[0m \u001b[0;34m\u001b[0m\u001b[0m\n\u001b[0;32m----> 4\u001b[0;31m \u001b[0msym\u001b[0m\u001b[0;34m.\u001b[0m\u001b[0mdiff\u001b[0m\u001b[0;34m(\u001b[0m\u001b[0;36m4\u001b[0m\u001b[0;34m*\u001b[0m\u001b[0mmath\u001b[0m\u001b[0;34m.\u001b[0m\u001b[0mexp\u001b[0m\u001b[0;34m(\u001b[0m\u001b[0;34m-\u001b[0m\u001b[0;36m4\u001b[0m\u001b[0;34m*\u001b[0m\u001b[0mx\u001b[0m\u001b[0;34m)\u001b[0m\u001b[0;34m,\u001b[0m\u001b[0mx\u001b[0m\u001b[0;34m)\u001b[0m\u001b[0;34m\u001b[0m\u001b[0;34m\u001b[0m\u001b[0m\n\u001b[0m",
            "\u001b[0;31mNameError\u001b[0m: name 'x' is not defined"
          ]
        }
      ]
    },
    {
      "cell_type": "markdown",
      "metadata": {
        "id": "SGXjrjgbrGpu"
      },
      "source": [
        "# Notes"
      ]
    },
    {
      "cell_type": "markdown",
      "metadata": {
        "id": "_CsyEYUsCFHQ"
      },
      "source": [
        "# 4_28 Reflection on CSC 113\n",
        "- 0 I want to practice solving engineering problems using the live editor as a CAS symbolic calculator\n",
        "- 0 I will have to do labs for Aero in the future (think of Phillip making graphs emulating xFoil for wing lift), so I will continue learning programing problem-solving skills with matlab.\n",
        "- I learned from coding with other people in Labs, and working with Nate Isley on the international names project that it can be helpful for me to keep my group mates company, and help them stay on task.\n",
        "-- It doesn't matter that I don't know the syntax of solving the problem, or that I am slower at coding than other people\n",
        "-- If we are sharing code, then we need to communicate so that we work on different sections\n",
        "-- I can always help by being a sounding board that helps my partners talk through the problems\n",
        "- code readability cannot be overstated in its importance. \n",
        "-- I need to think before I dive into coding about how the code structure should be designed \n",
        "-- then I should use comments liberally to explain my thinking, and document the code\n",
        "-- going back and doing housekeeping after I have a working program can also make a big difference for when I go back and try to reference my work in the future\n",
        "- I am happy with how I organized my files, even if I wasn't efficient in the beginning\n",
        "-- I had one folder on my desktop that was pinned to quick access for matlab\n",
        "-- then I had separate folders for labs and projects\n",
        "-- within each folder I keep a trash can to avoid deleting work while also decluttering quickly.\n",
        "- I was consistent in doing multiple choice reading questions on mondays, then going over the programs provided after class. I would usually feel underprepared during labs, but I was lucky that my group always got the code to work. I also spent a lot of time on the Matlab grader which forced me to do the problems, and was helpful bc there was immediate feedback\n",
        "- I have made bookmarks to save all of the references that Proff B provided with the flipped classes, and in-class solutions (see drive if I lose the bookmarks)\n"
      ]
    },
    {
      "cell_type": "markdown",
      "metadata": {
        "id": "M2uMXArgOz0E"
      },
      "source": [
        "###3_15 (also in vs code collab)\n",
        "\n",
        "I am still trying to figure out what is the best way for me to work with a reference\n",
        "    I didn't use the colab I made, Instead, I had:\n",
        "     - a doc called \"outline\", and the files for my project all on the right of my screen pinned in VS code, \n",
        "     - then I had the pdf of the assignment on the left. \n",
        "     - % I just took notes in comments\n",
        "\n",
        "I deleted the replace shortcut for files, and made replace ctrl+shift+"
      ]
    },
    {
      "cell_type": "markdown",
      "metadata": {
        "id": "-_DjJnVkilDM"
      },
      "source": [
        "#### 2_5 Doing my matlab grader in vs code\n",
        "both vs code and notepad++ can save .m files\n",
        "  I learned that a .m file will automatically update between vs code and matlab when I save in either of them.\n",
        "\n",
        "VS code is a flexible text editor because it uses vim shortcuts.\n",
        "\n"
      ]
    },
    {
      "cell_type": "markdown",
      "metadata": {
        "id": "R5k2LwWNfklz"
      },
      "source": [
        "# 2_4 Lab **B**\n",
        "In terms of my own productivity, I had a hard time juggling windows: I had zoom, the zoom chat, my lab matlab file and tabs, and the assignment in a google window\n",
        "\n",
        "    Notepad++ was pinned on top for typing: I need to reserve library for TV\n",
        "Some things that worked well: \n",
        " \n",
        "\n",
        "*   another tab in matlab for testing allowed me to work without all the command line junk, and without worry of accidentally overwriting code.  \n",
        "*   \"Save as copy \" is good peace of mind\n",
        "\n",
        "\n",
        "\n",
        "\n",
        "\n",
        "\n",
        "\n",
        "## Next time Improvements\n",
        "I want to start with a different parent folder to connect matlab in. Then, I can use the file manager window in my workflow\n",
        "\n",
        "    I want to emulate Nate and use the tools I am given, and work as quickly as I can to get my tasks done"
      ]
    },
    {
      "cell_type": "markdown",
      "metadata": {
        "id": "WtxV9M5ssvBi"
      },
      "source": [
        "# Searchable Quizlet Text"
      ]
    },
    {
      "cell_type": "markdown",
      "metadata": {
        "id": "u7UT6pS_s9my"
      },
      "source": [
        "#### Matlab Tues Class B Coding (basic printing, plotting, importing)\n",
        "\n",
        "what is the syntax for inputing something like a song lyric? ||||song_quote = input('name a song lyric ', 's');\n",
        "fprintf('Ahh, %s!\\n', song_quote);\n",
        "% note, there is ,'s' because the input is a string, add (even if 123 instead)\n",
        "How do you print matrices with fprintf() ? How does a matrix get \"unwound\"? ||||\n",
        "Assume that miles = 4.75904. How would you print it as \" ||||\n",
        "How do you you format an input to have: a certain # of decimal places? Decimal Notation that is only integers? A stringof characters? ||||\n",
        "What is the syntax for creating a plot that is exponential, linear, and constant? ||||\n",
        "What was the syntax for importing an excel file with the stanley cup numbers? ||||\n",
        "% What does this print?\n",
        "mat [1 2 3 4 5; 2 4 6 8 10];\n",
        "fprintf('%d*2 = %d\\n', mat); ||||\n",
        "What does subplots do? (the answer is C) ||||\n",
        "What are the symbols for customizing the **points** on a graph? ||||\n",
        "What are the symbols for customizing the **lines** on a graph? ||||\n",
        "What are the symbols for customizing the **colors** on a graph? ||||\n",
        "(text for creating matlab figures) ||||%%Grady fort on Razer 1/31 piazza week 2 part 2\n",
        "% all the code in the ppt\n",
        "%% Open 3 figures that are exponential, linear, and constant \n",
        "clc;\n",
        "clear;\n",
        "% ? remove the ; to show figures\n",
        "figure(1);\n",
        "x = 1:10;\n",
        "y1 = 2*x.^2;\n",
        "plot(x,y1)\n",
        "figure(2);\n",
        "y2 = x+5;\n",
        "plot(x,y2)\n",
        "figure(3);\n",
        "y3 = 2*ones(1,10);\n",
        "plot(x,y3);\n",
        "%% Labels\n",
        "figure(5)\n",
        "time=0:2:18;\n",
        "% 9 points for y axis of distance\n",
        "distance=[0, 1, 4, 6, 6, 11, 13, 14, 16, 19];\n",
        "% (x axis, y axis)\n",
        "plot(time,distance)\n",
        "xlabel('Time, sec')\n",
        "text(8,6,'text')\n",
        "title('Erroneous Title')\n",
        "% xlabel('text') : ads text next to x (or y axis)\n",
        "% title('text') : ^^\n",
        "% text(x,y,'string') : places horizontal text starting at (x, y)\n",
        "% close all : this will close all of the windows with matlab plots\n",
        "%% Multiple lines one plot\n",
        "figure(6);\n",
        "% list counts from 0 to 2pi with 200 steps\n",
        "x=0 : pi/100:2*pi;\n",
        "% each plot is a different color by default\n",
        "y1=cos(x*4);\n",
        "y2=sin(x);\n",
        "y3=cos(x)*4;\n",
        "% creating the plots\n",
        "plot(x,y1,x,y2,x,y3)\n",
        "% add another plot with\n",
        "% hold;\n",
        "%y4=cos(2*x)+1;\n",
        "%plot(x,y4)\n",
        "legend('y1=cos(x*4)', 'y2=sin(x)', 'y3=cos(x)*4')\n",
        "% legend('y1=cos(x*4)', 'y2=sin(x)', 'y3=cos(x)*4', 'y4=cos(2*x)+1')\n",
        "%% Adding Line Styles, Markers, and Colors\n",
        "% see screenshot for abbreviations (eg m is magenta)\n",
        "figure(7)\n",
        "x=0 : pi/25 : 2*pi;\n",
        "y=sin(x-(pi/10));\n",
        "plot(x,y,'kp')\n",
        "%% Subplots broken out on the matlab window\n",
        "figure(8);\n",
        "x = linspace(0,10);\n",
        "% first row\n",
        "% (row, column)\n",
        "subplot(2,1,1);\n",
        "y1 = sin(0.5*x);\n",
        "plot(x,y1,'b')\n",
        "title('Y1');\n",
        "% lower row\n",
        "subplot(2,1,2);\n",
        "y2 = sin(5*x);\n",
        "plot(x,y2,'r')\n",
        "title('y2');\n",
        "%% See links a bunch of different plots\n",
        "% https://www.mathworks.com/help/matlab/2-and-3d-plots.html\n",
        "% https://www.mathworks.com/help/matlab/creating_plots/types-of-matlab-plots.html\n",
        "%\n",
        "% vertical bar graph\n",
        "figure(9);\n",
        "y = 0:10:100;\n",
        "bar(y, 'g');\n",
        "% Multi-column vert bar graph\n",
        "figure(10)\n",
        "x = [2 4 5; 1 6 3];\n",
        "bar(x);\n",
        "% horiz bar graph\n",
        "figure(11)\n",
        "z = [2 4 5; 1 6 3];\n",
        "bar(z,'stacked');"
      ]
    },
    {
      "cell_type": "markdown",
      "metadata": {
        "id": "BK2yiU2SuI-_"
      },
      "source": [
        "#### Matlab in-lab Cycle A\n",
        "What do I put at the top of my code (2 lines) to get rid of the text in the command line and the variables in the workspace? ||||%% Grady Fort 1_27\n",
        "clear\n",
        "clc\n",
        "How did spence set up dark mode? ||||\n",
        "remember that I can paste an image into the definition off of the clipboard ||||*ctrl + v*\n",
        "How would you select the bottom half of a matrix that is n X n? (Lab a) ||||n = 8;\n",
        "mat = randi([0,10],n,n);\n",
        "% the number of rows of mat is n/2+1\n",
        "% (with n=4, (n/2)-1 returned 2 too many rows. -1+2=1)\n",
        "% get the bottom half of mat by using end, and our calculated row height\n",
        "botHalf = mat(((n/2)+1):end,:);\n",
        "How would I add a copy of the last column (on the far right) to a mattrix? (lab a) ||||n = 8;\n",
        "mat = randi([0,10],n,n);\n",
        "% syntax: matrix(row, column)\n",
        "% go to the last column with end\n",
        "% select the entire column with :\n",
        "lastCol = mat(:, end);\n",
        "mat2 = [lastCol, mat];\n",
        "What symbol(s) are needed to multiply two vectors with the same dimensions as a *Crossproduct*? ||||.*\n",
        "What symbol(s) are needed to multiply two vectors with the same dimensions as a *dot product* where each element is multiplied together? ||||*\n",
        "There is a matrix called mat. How would you extract the value of the third(3) element? ||||mat(3);\n"
      ]
    }
  ]
}